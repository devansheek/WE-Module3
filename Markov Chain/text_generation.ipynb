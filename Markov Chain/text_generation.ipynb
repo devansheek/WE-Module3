{
  "nbformat": 4,
  "nbformat_minor": 0,
  "metadata": {
    "colab": {
      "provenance": []
    },
    "kernelspec": {
      "name": "python3",
      "display_name": "Python 3"
    },
    "language_info": {
      "name": "python"
    }
  },
  "cells": [
    {
      "cell_type": "code",
      "source": [
        "from collections import defaultdict\n",
        "import random\n",
        "\n",
        "# Sample text data\n",
        "text = \"This is a sample text for building a Markov model. This is a sample text for testing.\"\n",
        "\n",
        "# Tokenization\n",
        "words = text.split()\n",
        "\n",
        "# Build a dictionary to store transitions and their frequencies\n",
        "transitions = defaultdict(lambda: defaultdict(int))\n",
        "\n",
        "# Populate the transition dictionary\n",
        "for i in range(len(words) - 1):\n",
        "    word, next_word = words[i], words[i + 1]\n",
        "    transitions[word][next_word] += 1\n",
        "\n",
        "# Build the transition matrix (convert frequencies to probabilities)\n",
        "transition_matrix = {}\n",
        "for word, next_words in transitions.items():\n",
        "    total_transitions = sum(next_words.values())\n",
        "    transition_matrix[word] = {next_word: count / total_transitions for next_word, count in next_words.items()}\n",
        "\n",
        "# Prediction\n",
        "def predict_next_word(word):\n",
        "    next_words = transition_matrix.get(word)\n",
        "    if next_words:\n",
        "        return random.choices(list(next_words.keys()), weights=list(next_words.values()))[0]\n",
        "    else:\n",
        "        return None\n",
        "\n",
        "# Generate a sequence of words\n",
        "start_word = \"This\"\n",
        "output = [start_word]\n",
        "for _ in range(10):\n",
        "    next_word = predict_next_word(output[-1])\n",
        "    if next_word:\n",
        "        output.append(next_word)\n",
        "    else:\n",
        "        break\n",
        "\n",
        "print(\" \".join(output))\n"
      ],
      "metadata": {
        "colab": {
          "base_uri": "https://localhost:8080/"
        },
        "id": "waclvMMJdMsx",
        "outputId": "57344f8e-e827-4e28-eff7-44101055c090"
      },
      "execution_count": 17,
      "outputs": [
        {
          "output_type": "stream",
          "name": "stdout",
          "text": [
            "This is a sample text for building a sample text for\n"
          ]
        }
      ]
    },
    {
      "cell_type": "code",
      "source": [
        "# Prediction\n",
        "def predict_next_word(word):\n",
        "    next_words = transition_matrix.get(word)\n",
        "    if next_words:\n",
        "        next_word = random.choices(list(next_words.keys()), weights=list(next_words.values()))[0]\n",
        "        if next_word.endswith(('.', '?', '!')):\n",
        "            return next_word\n",
        "        else:\n",
        "            return next_word + \" \" + predict_next_word(next_word)\n",
        "    else:\n",
        "        return \"\"\n",
        "\n",
        "# Generate a sentence\n",
        "start_word = random.choice(list(transition_matrix.keys()))\n",
        "output = predict_next_word(start_word)\n",
        "\n",
        "print(output)\n"
      ],
      "metadata": {
        "colab": {
          "base_uri": "https://localhost:8080/"
        },
        "id": "CfspDGm8edaj",
        "outputId": "1eb02bcd-e436-48a1-9840-5abfb7aabebc"
      },
      "execution_count": 28,
      "outputs": [
        {
          "output_type": "stream",
          "name": "stdout",
          "text": [
            "was walking In the middle He looked at her and The book was After the rain, \n"
          ]
        }
      ]
    },
    {
      "cell_type": "code",
      "source": [
        "text = \"\"\"I love to\n",
        "The quick brown\n",
        "She was walking\n",
        "In the middle\n",
        "He looked at her and\n",
        "The cat jumped\n",
        "After a long day,\n",
        "On a sunny day,\n",
        "The book was\n",
        "After the rain,\"\"\"\n"
      ],
      "metadata": {
        "id": "K8L6WAR_ep9j"
      },
      "execution_count": 29,
      "outputs": []
    },
    {
      "cell_type": "code",
      "source": [
        "from collections import defaultdict\n",
        "\n",
        "words = text.split()\n",
        "\n",
        "# Build the transition dictionary\n",
        "transitions = defaultdict(lambda: defaultdict(int))\n",
        "for word, next_word in zip(words, words[1:]):\n",
        "    transitions[word][next_word] += 1\n",
        "\n",
        "# Build the transition matrix\n",
        "transition_matrix = {}\n",
        "for word, next_words in transitions.items():\n",
        "    total_transitions = sum(next_words.values())\n",
        "    transition_matrix[word] = {next_word: count / total_transitions for next_word, count in next_words.items()}\n",
        "\n",
        "# Display transition matrix\n",
        "for word, next_words in transition_matrix.items():\n",
        "    print(f\"{word}: {next_words}\")\n"
      ],
      "metadata": {
        "colab": {
          "base_uri": "https://localhost:8080/"
        },
        "id": "lrt0PLf-ey3p",
        "outputId": "c561f4b8-456a-4f8d-e8cc-61cc5e38c443"
      },
      "execution_count": 30,
      "outputs": [
        {
          "output_type": "stream",
          "name": "stdout",
          "text": [
            "I: {'love': 1.0}\n",
            "love: {'to': 1.0}\n",
            "to: {'The': 1.0}\n",
            "The: {'quick': 0.3333333333333333, 'cat': 0.3333333333333333, 'book': 0.3333333333333333}\n",
            "quick: {'brown': 1.0}\n",
            "brown: {'She': 1.0}\n",
            "She: {'was': 1.0}\n",
            "was: {'walking': 0.5, 'After': 0.5}\n",
            "walking: {'In': 1.0}\n",
            "In: {'the': 1.0}\n",
            "the: {'middle': 0.5, 'rain,': 0.5}\n",
            "middle: {'He': 1.0}\n",
            "He: {'looked': 1.0}\n",
            "looked: {'at': 1.0}\n",
            "at: {'her': 1.0}\n",
            "her: {'and': 1.0}\n",
            "and: {'The': 1.0}\n",
            "cat: {'jumped': 1.0}\n",
            "jumped: {'After': 1.0}\n",
            "After: {'a': 0.5, 'the': 0.5}\n",
            "a: {'long': 0.5, 'sunny': 0.5}\n",
            "long: {'day,': 1.0}\n",
            "day,: {'On': 0.5, 'The': 0.5}\n",
            "On: {'a': 1.0}\n",
            "sunny: {'day,': 1.0}\n",
            "book: {'was': 1.0}\n"
          ]
        }
      ]
    },
    {
      "cell_type": "code",
      "source": [
        "start_word = random.choice(list(transition_matrix.keys()))\n",
        "output = predict_next_word(start_word)\n",
        "\n",
        "print(output)"
      ],
      "metadata": {
        "colab": {
          "base_uri": "https://localhost:8080/"
        },
        "id": "zj1rRSATe5k3",
        "outputId": "7ab30320-f2bf-4878-cd8b-2f2d8431fe50"
      },
      "execution_count": 31,
      "outputs": [
        {
          "output_type": "stream",
          "name": "stdout",
          "text": [
            "her and The quick brown She was walking In the rain, \n"
          ]
        }
      ]
    }
  ]
}