{
  "nbformat": 4,
  "nbformat_minor": 0,
  "metadata": {
    "colab": {
      "provenance": []
    },
    "kernelspec": {
      "name": "python3",
      "display_name": "Python 3"
    },
    "language_info": {
      "name": "python"
    }
  },
  "cells": [
    {
      "cell_type": "code",
      "execution_count": null,
      "metadata": {
        "colab": {
          "base_uri": "https://localhost:8080/"
        },
        "id": "SI330MJy7Mmi",
        "outputId": "bbe64f3a-7c5b-47dc-9f1e-70d7d83d636d"
      },
      "outputs": [
        {
          "output_type": "stream",
          "name": "stdout",
          "text": [
            "\n",
            "Round 1:\n",
            "\n",
            "Player 1's turn:\n",
            "Dice: [4, 4, 6, 6, 2]\n",
            "Player 1's scores: {'Ones': 0, 'Twos': 2, 'Threes': 0, 'Fours': 8, 'Fives': 0, 'Sixes': 12, 'Three of a Kind': 0, 'Four of a Kind': 0, 'Full House': 0, 'Small Straight': 30, 'Large Straight': 0, 'Chance': 22, 'Yahtzee': 0}\n",
            "\n",
            "Player 2's turn:\n",
            "Dice: [4, 4, 4, 1, 3]\n",
            "Player 2's scores: {'Ones': 1, 'Twos': 0, 'Threes': 3, 'Fours': 12, 'Fives': 0, 'Sixes': 0, 'Three of a Kind': 16, 'Four of a Kind': 0, 'Full House': 0, 'Small Straight': 30, 'Large Straight': 0, 'Chance': 16, 'Yahtzee': 0}\n",
            "\n",
            "Round 2:\n",
            "\n",
            "Player 1's turn:\n",
            "Dice: [2, 5, 6, 1, 6]\n",
            "Player 1's scores: {'Ones': 1, 'Twos': 2, 'Threes': 0, 'Fours': 0, 'Fives': 5, 'Sixes': 12, 'Three of a Kind': 0, 'Four of a Kind': 0, 'Full House': 0, 'Small Straight': 30, 'Large Straight': 0, 'Chance': 20, 'Yahtzee': 0}\n",
            "\n",
            "Player 2's turn:\n",
            "Dice: [6, 2, 1, 3, 4]\n",
            "Player 2's scores: {'Ones': 1, 'Twos': 2, 'Threes': 3, 'Fours': 4, 'Fives': 0, 'Sixes': 6, 'Three of a Kind': 0, 'Four of a Kind': 0, 'Full House': 0, 'Small Straight': 30, 'Large Straight': 0, 'Chance': 16, 'Yahtzee': 0}\n",
            "\n",
            "Round 3:\n",
            "\n",
            "Player 1's turn:\n",
            "Dice: [6, 2, 1, 4, 6]\n",
            "Player 1's scores: {'Ones': 1, 'Twos': 2, 'Threes': 0, 'Fours': 4, 'Fives': 0, 'Sixes': 12, 'Three of a Kind': 0, 'Four of a Kind': 0, 'Full House': 0, 'Small Straight': 30, 'Large Straight': 0, 'Chance': 19, 'Yahtzee': 0}\n",
            "\n",
            "Player 2's turn:\n",
            "Dice: [5, 3, 2, 5, 4]\n",
            "Player 2's scores: {'Ones': 0, 'Twos': 2, 'Threes': 3, 'Fours': 4, 'Fives': 10, 'Sixes': 0, 'Three of a Kind': 0, 'Four of a Kind': 0, 'Full House': 0, 'Small Straight': 30, 'Large Straight': 0, 'Chance': 19, 'Yahtzee': 0}\n"
          ]
        }
      ],
      "source": [
        "import random\n",
        "\n",
        "class YahtzeeGame:\n",
        "    def __init__(self, players):\n",
        "        self.players = players\n",
        "        self.scores = {player: {} for player in players}\n",
        "\n",
        "    def roll_dice(self):\n",
        "        return [random.randint(1, 6) for _ in range(5)]\n",
        "\n",
        "    def score_roll(self, dice):\n",
        "        scores = {\n",
        "            \"Ones\": sum(d for d in dice if d == 1),\n",
        "            \"Twos\": sum(d for d in dice if d == 2),\n",
        "            \"Threes\": sum(d for d in dice if d == 3),\n",
        "            \"Fours\": sum(d for d in dice if d == 4),\n",
        "            \"Fives\": sum(d for d in dice if d == 5),\n",
        "            \"Sixes\": sum(d for d in dice if d == 6),\n",
        "            \"Three of a Kind\": sum(dice) if any(dice.count(d) >= 3 for d in dice) else 0,\n",
        "            \"Four of a Kind\": sum(dice) if any(dice.count(d) >= 4 for d in dice) else 0,\n",
        "            \"Full House\": 25 if len(set(dice)) == 2 and any(dice.count(d) == 3 for d in dice) else 0,\n",
        "            \"Small Straight\": 30 if any(dice.count(d) >= 1 for d in range(1, 5)) or any(dice.count(d) >= 1 for d in range(2, 6)) or any(dice.count(d) >= 1 for d in range(3, 7)) else 0,\n",
        "            \"Large Straight\": 40 if len(set(dice)) == 5 and (max(dice) - min(dice)) == 4 else 0,\n",
        "            \"Chance\": sum(dice),\n",
        "            \"Yahtzee\": 50 if any(dice.count(d) == 5 for d in dice) else 0\n",
        "        }\n",
        "\n",
        "        return scores\n",
        "\n",
        "    def play_rounds(self, num_rounds=3):\n",
        "        for round_num in range(1, num_rounds + 1):\n",
        "            print(f\"\\nRound {round_num}:\")\n",
        "            for player in self.players:\n",
        "                print(f\"\\n{player}'s turn:\")\n",
        "                dice = self.roll_dice()\n",
        "                print(\"Dice:\", dice)\n",
        "                scores = self.score_roll(dice)\n",
        "                self.scores[player][round_num] = scores\n",
        "                print(f\"{player}'s scores:\", scores)\n",
        "\n",
        "\n",
        "def main():\n",
        "    players = [\"Player 1\", \"Player 2\"]  # Example players\n",
        "    game = YahtzeeGame(players)\n",
        "    game.play_rounds(num_rounds=3)\n",
        "\n",
        "if __name__ == \"__main__\":\n",
        "    main()\n"
      ]
    },
    {
      "cell_type": "code",
      "source": [
        "#edge case testing\n",
        "def play_rounds(self, num_rounds=3):\n",
        "    for round_num in range(1, num_rounds + 1):\n",
        "        print(f\"\\nRound {round_num}:\")\n",
        "        for player in self.players:\n",
        "            print(f\"\\n{player}'s turn:\")\n",
        "            dice = self.roll_dice()\n",
        "            print(\"Dice:\", dice)\n",
        "            scores = self.score_roll(dice)\n",
        "            self.scores[player][round_num] = scores\n",
        "            print(f\"{player}'s scores:\", scores)\n",
        "\n",
        "def main():\n",
        "    players = [\"Player 1\", \"Player 2\"]  # Example players\n",
        "    game = YahtzeeGame(players)\n",
        "    game.play_rounds(num_rounds=3)\n",
        "\n",
        "if __name__ == \"__main__\":\n",
        "    main()\n"
      ],
      "metadata": {
        "colab": {
          "base_uri": "https://localhost:8080/"
        },
        "id": "_vEDaEVgFzo4",
        "outputId": "2b89c059-2f02-48c3-87f7-054f7aa126ce"
      },
      "execution_count": null,
      "outputs": [
        {
          "output_type": "stream",
          "name": "stdout",
          "text": [
            "\n",
            "Round 1:\n",
            "\n",
            "Player 1's turn:\n",
            "Dice: [2, 4, 6, 5, 6]\n",
            "Player 1's scores: {'Ones': 0, 'Twos': 2, 'Threes': 0, 'Fours': 4, 'Fives': 5, 'Sixes': 12, 'Three of a Kind': 0, 'Four of a Kind': 0, 'Full House': 0, 'Small Straight': 30, 'Large Straight': 0, 'Chance': 23, 'Yahtzee': 0}\n",
            "\n",
            "Player 2's turn:\n",
            "Dice: [4, 4, 3, 2, 1]\n",
            "Player 2's scores: {'Ones': 1, 'Twos': 2, 'Threes': 3, 'Fours': 8, 'Fives': 0, 'Sixes': 0, 'Three of a Kind': 0, 'Four of a Kind': 0, 'Full House': 0, 'Small Straight': 30, 'Large Straight': 0, 'Chance': 14, 'Yahtzee': 0}\n",
            "\n",
            "Round 2:\n",
            "\n",
            "Player 1's turn:\n",
            "Dice: [6, 6, 5, 3, 5]\n",
            "Player 1's scores: {'Ones': 0, 'Twos': 0, 'Threes': 3, 'Fours': 0, 'Fives': 10, 'Sixes': 12, 'Three of a Kind': 0, 'Four of a Kind': 0, 'Full House': 0, 'Small Straight': 30, 'Large Straight': 0, 'Chance': 25, 'Yahtzee': 0}\n",
            "\n",
            "Player 2's turn:\n",
            "Dice: [2, 1, 6, 6, 3]\n",
            "Player 2's scores: {'Ones': 1, 'Twos': 2, 'Threes': 3, 'Fours': 0, 'Fives': 0, 'Sixes': 12, 'Three of a Kind': 0, 'Four of a Kind': 0, 'Full House': 0, 'Small Straight': 30, 'Large Straight': 0, 'Chance': 18, 'Yahtzee': 0}\n",
            "\n",
            "Round 3:\n",
            "\n",
            "Player 1's turn:\n",
            "Dice: [1, 5, 4, 2, 4]\n",
            "Player 1's scores: {'Ones': 1, 'Twos': 2, 'Threes': 0, 'Fours': 8, 'Fives': 5, 'Sixes': 0, 'Three of a Kind': 0, 'Four of a Kind': 0, 'Full House': 0, 'Small Straight': 30, 'Large Straight': 0, 'Chance': 16, 'Yahtzee': 0}\n",
            "\n",
            "Player 2's turn:\n",
            "Dice: [1, 2, 3, 5, 2]\n",
            "Player 2's scores: {'Ones': 1, 'Twos': 4, 'Threes': 3, 'Fours': 0, 'Fives': 5, 'Sixes': 0, 'Three of a Kind': 0, 'Four of a Kind': 0, 'Full House': 0, 'Small Straight': 30, 'Large Straight': 0, 'Chance': 13, 'Yahtzee': 0}\n"
          ]
        }
      ]
    },
    {
      "cell_type": "code",
      "source": [
        "#Changes to add a custom set of rolls.\n",
        "class YahtzeeGame:\n",
        "    def __init__(self, players):\n",
        "        self.players = players\n",
        "        self.scores = {player: {} for player in players}\n",
        "        self.current_dice = []\n",
        "\n",
        "    def set_dice(self, dice):\n",
        "        self.current_dice = dice\n",
        "\n",
        "    def roll_dice(self):\n",
        "        if not self.current_dice:\n",
        "            self.current_dice = [random.randint(1, 6) for _ in range(5)]\n",
        "        return self.current_dice\n",
        "\n",
        "    def score_roll(self, dice):\n",
        "        scores = {\n",
        "            \"Ones\": sum(d for d in dice if d == 1),\n",
        "            \"Twos\": sum(d for d in dice if d == 2),\n",
        "            \"Threes\": sum(d for d in dice if d == 3),\n",
        "            \"Fours\": sum(d for d in dice if d == 4),\n",
        "            \"Fives\": sum(d for d in dice if d == 5),\n",
        "            \"Sixes\": sum(d for d in dice if d == 6),\n",
        "            \"Three of a Kind\": sum(dice) if any(dice.count(d) >= 3 for d in dice) else 0,\n",
        "            \"Four of a Kind\": sum(dice) if any(dice.count(d) >= 4 for d in dice) else 0,\n",
        "            \"Full House\": 25 if len(set(dice)) == 2 and any(dice.count(d) == 3 for d in dice) else 0,\n",
        "            \"Small Straight\": 30 if any(dice.count(d) >= 1 for d in range(1, 5)) or any(dice.count(d) >= 1 for d in range(2, 6)) or any(dice.count(d) >= 1 for d in range(3, 7)) else 0,\n",
        "            \"Large Straight\": 40 if len(set(dice)) == 5 and (max(dice) - min(dice)) == 4 else 0,\n",
        "            \"Chance\": sum(dice),\n",
        "            \"Yahtzee\": 50 if any(dice.count(d) == 5 for d in dice) else 0\n",
        "        }\n",
        "\n",
        "        return scores\n",
        "\n",
        "    def play_rounds(self, num_rounds=1):\n",
        "        for round_num in range(1, num_rounds + 1):\n",
        "            print(f\"\\nRound {round_num}:\")\n",
        "            for player in self.players:\n",
        "                print(f\"\\n{player}'s turn:\")\n",
        "                dice = self.roll_dice()\n",
        "                print(\"Dice:\", dice)\n",
        "                scores = self.score_roll(dice)\n",
        "                self.scores[player][round_num] = scores\n",
        "                print(f\"{player}'s scores:\", scores)\n",
        "\n",
        "def main():\n",
        "    players = [\"Player 1\"]  # Example players\n",
        "    game = YahtzeeGame(players)\n",
        "\n",
        "    # Set the dice values for testing\n",
        "    game.set_dice([1, 2, 3, 4, 5])\n",
        "\n",
        "    game.play_rounds(num_rounds=1)\n",
        "\n",
        "if __name__ == \"__main__\":\n",
        "    main()\n"
      ],
      "metadata": {
        "colab": {
          "base_uri": "https://localhost:8080/"
        },
        "id": "9gzJfOQLGrr0",
        "outputId": "c3070cd8-1761-4100-832f-17e59485fe47"
      },
      "execution_count": null,
      "outputs": [
        {
          "output_type": "stream",
          "name": "stdout",
          "text": [
            "\n",
            "Round 1:\n",
            "\n",
            "Player 1's turn:\n",
            "Dice: [1, 2, 3, 4, 5]\n",
            "Player 1's scores: {'Ones': 1, 'Twos': 2, 'Threes': 3, 'Fours': 4, 'Fives': 5, 'Sixes': 0, 'Three of a Kind': 0, 'Four of a Kind': 0, 'Full House': 0, 'Small Straight': 30, 'Large Straight': 40, 'Chance': 15, 'Yahtzee': 0}\n"
          ]
        }
      ]
    },
    {
      "cell_type": "code",
      "source": [
        "game = YahtzeeGame([\"chatgpt\"])\n",
        "game.set_dice([6, 6, 6, 6, 6])\n",
        "game.play_rounds(num_rounds=1)"
      ],
      "metadata": {
        "colab": {
          "base_uri": "https://localhost:8080/"
        },
        "id": "Gc7gdGsYHev1",
        "outputId": "c9536a44-3d06-465d-f3dd-2c24af023008"
      },
      "execution_count": null,
      "outputs": [
        {
          "output_type": "stream",
          "name": "stdout",
          "text": [
            "\n",
            "Round 1:\n",
            "\n",
            "chatgpt's turn:\n",
            "Dice: [6, 6, 6, 6, 6]\n",
            "chatgpt's scores: {'Ones': 0, 'Twos': 0, 'Threes': 0, 'Fours': 0, 'Fives': 0, 'Sixes': 30, 'Three of a Kind': 30, 'Four of a Kind': 30, 'Full House': 0, 'Small Straight': 30, 'Large Straight': 0, 'Chance': 30, 'Yahtzee': 50}\n"
          ]
        }
      ]
    }
  ]
}