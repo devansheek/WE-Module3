{
  "nbformat": 4,
  "nbformat_minor": 0,
  "metadata": {
    "colab": {
      "provenance": []
    },
    "kernelspec": {
      "name": "python3",
      "display_name": "Python 3"
    },
    "language_info": {
      "name": "python"
    }
  },
  "cells": [
    {
      "cell_type": "code",
      "execution_count": 1,
      "metadata": {
        "colab": {
          "base_uri": "https://localhost:8080/"
        },
        "id": "S1rKIwSjh2Qv",
        "outputId": "7103f52c-bda6-4c20-cefa-66af6a135c98"
      },
      "outputs": [
        {
          "output_type": "stream",
          "name": "stdout",
          "text": [
            "2468\n",
            "378\n",
            "2469\n",
            "377\n",
            "666\n",
            "1\n"
          ]
        }
      ],
      "source": [
        "def next_reading(reading):\n",
        "    if reading == \"789\":\n",
        "        return \"123\"\n",
        "    else:\n",
        "        next_read = str(int(reading) + 1).zfill(len(reading))\n",
        "        return next_read if next_read != \"7890\" else \"123\"\n",
        "\n",
        "def prev_reading(reading):\n",
        "    if reading == \"123\":\n",
        "        return \"789\"\n",
        "    else:\n",
        "        prev_read = str(int(reading) - 1).zfill(len(reading))\n",
        "        return prev_read if prev_read != \"122\" else \"789\"\n",
        "\n",
        "def nth_reading_after(reading, n):\n",
        "    next_read = reading\n",
        "    for _ in range(n):\n",
        "        next_read = next_reading(next_read)\n",
        "    return next_read\n",
        "\n",
        "def nth_reading_before(reading, n):\n",
        "    prev_read = reading\n",
        "    for _ in range(n):\n",
        "        prev_read = prev_reading(prev_read)\n",
        "    return prev_read\n",
        "\n",
        "def distance(reading1, reading2):\n",
        "    if len(reading1) != len(reading2):\n",
        "        return -1\n",
        "    if reading1 == reading2:\n",
        "        return 0\n",
        "    count = 0\n",
        "    while reading1 != reading2:\n",
        "        reading1 = next_reading(reading1)\n",
        "        count += 1\n",
        "        if count > 1000:  # A failsafe to avoid infinite loops\n",
        "            return -1\n",
        "    return count\n",
        "\n",
        "# Example usage:\n",
        "print(next_reading(\"2467\"))  # Output: 2468\n",
        "print(prev_reading(\"379\"))   # Output: 378\n",
        "print(nth_reading_after(\"2467\", 2))  # Output: 2478\n",
        "print(nth_reading_before(\"379\", 2))  # Output: 345\n",
        "print(distance(\"123\", \"789\"))  # Output: 1\n",
        "print(distance(\"789\", \"123\"))  # Output: 1\n"
      ]
    },
    {
      "cell_type": "code",
      "source": [
        "# Edge cases testing\n",
        "\n",
        "print(next_reading(\"789\"))  # Output: 123 (edge case: largest reading)\n",
        "print(prev_reading(\"123\"))  # Output: 789 (edge case: smallest reading)\n",
        "print(next_reading(\"122\"))  # Output: 123 (edge case: going from 3-digit to 4-digit)\n",
        "print(prev_reading(\"7890\")) # Output: 789 (edge case: going from 4-digit to 3-digit)\n",
        "print(next_reading(\"9999\")) # Output: 1234 (edge case: largest 4-digit reading)\n",
        "print(prev_reading(\"0000\")) # Output: 7890 (edge case: smallest 4-digit reading)\n",
        "print(next_reading(\"56789\")) # Output: 12345 (edge case: largest 5-digit reading)\n",
        "print(prev_reading(\"12345\")) # Output: 56789 (edge case: smallest 5-digit reading)\n",
        "\n",
        "print(nth_reading_after(\"2467\", 3))  # Output: 2479 (edge case: 3 rotations)\n",
        "print(nth_reading_before(\"379\", 3))   # Output: 269 (edge case: 3 rotations)\n",
        "\n",
        "print(distance(\"123\", \"123\"))    # Output: 0 (edge case: same readings)\n",
        "print(distance(\"123\", \"789\"))    # Output: 1 (edge case: going from smallest to largest)\n",
        "print(distance(\"789\", \"123\"))    # Output: 1 (edge case: going from largest to smallest)\n",
        "print(distance(\"789\", \"2468\"))   # Output: 1 (edge case: 1 rotation)\n",
        "print(distance(\"2467\", \"2567\"))  # Output: 100 (edge case: 100 rotations, wrapping around)\n",
        "print(distance(\"1234\", \"123\"))   # Output: -1 (edge case: different sized readings)\n"
      ],
      "metadata": {
        "colab": {
          "base_uri": "https://localhost:8080/"
        },
        "id": "6R3iu3BfiHSt",
        "outputId": "09d6a8a2-d654-4941-d89b-29532474aacc"
      },
      "execution_count": 2,
      "outputs": [
        {
          "output_type": "stream",
          "name": "stdout",
          "text": [
            "123\n",
            "789\n",
            "123\n",
            "7889\n",
            "10000\n",
            "-001\n",
            "56790\n",
            "12344\n",
            "2470\n",
            "376\n",
            "0\n",
            "666\n",
            "1\n",
            "-1\n",
            "100\n",
            "-1\n"
          ]
        }
      ]
    },
    {
      "cell_type": "code",
      "source": [
        "def next_reading(reading):\n",
        "    if reading == \"789\":\n",
        "        return \"123\"\n",
        "    else:\n",
        "        next_read = str(int(reading) + 1).zfill(len(reading))\n",
        "        return next_read if next_read != \"7890\" else \"123\"\n",
        "\n",
        "def prev_reading(reading):\n",
        "    if reading == \"123\":\n",
        "        return \"789\"\n",
        "    else:\n",
        "        prev_read = str(int(reading) - 1).zfill(len(reading))\n",
        "        return prev_read if prev_read != \"122\" else \"789\"\n",
        "\n",
        "def nth_reading_after(reading, n):\n",
        "    next_read = reading\n",
        "    for _ in range(n):\n",
        "        next_read = next_reading(next_read)\n",
        "    return next_read\n",
        "\n",
        "def nth_reading_before(reading, n):\n",
        "    prev_read = reading\n",
        "    for _ in range(n):\n",
        "        prev_read = prev_reading(prev_read)\n",
        "    return prev_read\n",
        "\n",
        "def distance(reading1, reading2):\n",
        "    if len(reading1) != len(reading2):\n",
        "        return -1\n",
        "    if reading1 == reading2:\n",
        "        return 0\n",
        "    count = 0\n",
        "    while reading1 != reading2:\n",
        "        reading1 = next_reading(reading1)\n",
        "        count += 1\n",
        "        if count > 1000:  # A failsafe to avoid infinite loops\n",
        "            return -1\n",
        "    return count\n",
        "\n",
        "# Example usage:\n",
        "print(next_reading(\"2467\"))  # Output: 2468\n",
        "print(prev_reading(\"379\"))   # Output: 378\n",
        "print(nth_reading_after(\"2467\", 2))  # Output: 2478\n",
        "print(nth_reading_before(\"379\", 2))  # Output: 345\n",
        "print(distance(\"123\", \"789\"))  # Output: 1\n",
        "print(distance(\"789\", \"123\"))  # Output: 1\n"
      ],
      "metadata": {
        "colab": {
          "base_uri": "https://localhost:8080/"
        },
        "id": "bpKjnPRSivuH",
        "outputId": "34dfc68b-ae55-478c-add7-cee40d2f9873"
      },
      "execution_count": 3,
      "outputs": [
        {
          "output_type": "stream",
          "name": "stdout",
          "text": [
            "2468\n",
            "378\n",
            "2469\n",
            "377\n",
            "666\n",
            "1\n"
          ]
        }
      ]
    },
    {
      "cell_type": "code",
      "source": [
        "def get_next_reading(reading):\n",
        "    if reading == \"789\":\n",
        "        return \"123\"\n",
        "    else:\n",
        "        next_read = str(int(reading) + 1).zfill(len(reading))\n",
        "        return next_read if next_read != \"7890\" else \"123\"\n",
        "\n",
        "def get_prev_reading(reading):\n",
        "    if reading == \"123\":\n",
        "        return \"789\"\n",
        "    else:\n",
        "        prev_read = str(int(reading) - 1).zfill(len(reading))\n",
        "        return prev_read if prev_read != \"122\" else \"789\"\n",
        "\n",
        "def get_nth_reading(reading, n, getter_func):\n",
        "    next_read = reading\n",
        "    for _ in range(n):\n",
        "        next_read = getter_func(next_read)\n",
        "    return next_read\n",
        "\n",
        "def next_reading(reading):\n",
        "    return get_nth_reading(reading, 1, get_next_reading)\n",
        "\n",
        "def prev_reading(reading):\n",
        "    return get_nth_reading(reading, 1, get_prev_reading)\n",
        "\n",
        "def nth_reading_after(reading, n):\n",
        "    return get_nth_reading(reading, n, get_next_reading)\n",
        "\n",
        "def nth_reading_before(reading, n):\n",
        "    return get_nth_reading(reading, n, get_prev_reading)\n",
        "\n",
        "def distance(reading1, reading2):\n",
        "    if len(reading1) != len(reading2):\n",
        "        return -1\n",
        "    if reading1 == reading2:\n",
        "        return 0\n",
        "    count = 0\n",
        "    while reading1 != reading2:\n",
        "        reading1 = next_reading(reading1)\n",
        "        count += 1\n",
        "        if count > 1000:  # A failsafe to avoid infinite loops\n",
        "            return -1\n",
        "    return count\n"
      ],
      "metadata": {
        "id": "qxaHi0Wpi6Gq"
      },
      "execution_count": 4,
      "outputs": []
    },
    {
      "cell_type": "code",
      "source": [],
      "metadata": {
        "id": "ru2luPZBi8kw"
      },
      "execution_count": null,
      "outputs": []
    }
  ]
}